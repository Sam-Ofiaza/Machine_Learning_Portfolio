{
  "nbformat": 4,
  "nbformat_minor": 0,
  "metadata": {
    "colab": {
      "provenance": []
    },
    "kernelspec": {
      "name": "python3",
      "display_name": "Python 3"
    },
    "language_info": {
      "name": "python"
    }
  },
  "cells": [
    {
      "cell_type": "markdown",
      "source": [
        "# ML with sklearn\n",
        "\n",
        "### Read the Auto data"
      ],
      "metadata": {
        "id": "MP7exuRDYHOn"
      }
    },
    {
      "cell_type": "code",
      "source": [
        "from google.colab import files\n",
        "uploaded = files.upload()"
      ],
      "metadata": {
        "colab": {
          "base_uri": "https://localhost:8080/",
          "height": 73
        },
        "id": "Dyi1ll8CaSGN",
        "outputId": "07b048f8-b3b3-475a-dbf1-1c2bcd93dd45"
      },
      "execution_count": 30,
      "outputs": [
        {
          "output_type": "display_data",
          "data": {
            "text/plain": [
              "<IPython.core.display.HTML object>"
            ],
            "text/html": [
              "\n",
              "     <input type=\"file\" id=\"files-428432ef-1d94-4f9d-8981-fd9c59a86ab1\" name=\"files[]\" multiple disabled\n",
              "        style=\"border:none\" />\n",
              "     <output id=\"result-428432ef-1d94-4f9d-8981-fd9c59a86ab1\">\n",
              "      Upload widget is only available when the cell has been executed in the\n",
              "      current browser session. Please rerun this cell to enable.\n",
              "      </output>\n",
              "      <script>// Copyright 2017 Google LLC\n",
              "//\n",
              "// Licensed under the Apache License, Version 2.0 (the \"License\");\n",
              "// you may not use this file except in compliance with the License.\n",
              "// You may obtain a copy of the License at\n",
              "//\n",
              "//      http://www.apache.org/licenses/LICENSE-2.0\n",
              "//\n",
              "// Unless required by applicable law or agreed to in writing, software\n",
              "// distributed under the License is distributed on an \"AS IS\" BASIS,\n",
              "// WITHOUT WARRANTIES OR CONDITIONS OF ANY KIND, either express or implied.\n",
              "// See the License for the specific language governing permissions and\n",
              "// limitations under the License.\n",
              "\n",
              "/**\n",
              " * @fileoverview Helpers for google.colab Python module.\n",
              " */\n",
              "(function(scope) {\n",
              "function span(text, styleAttributes = {}) {\n",
              "  const element = document.createElement('span');\n",
              "  element.textContent = text;\n",
              "  for (const key of Object.keys(styleAttributes)) {\n",
              "    element.style[key] = styleAttributes[key];\n",
              "  }\n",
              "  return element;\n",
              "}\n",
              "\n",
              "// Max number of bytes which will be uploaded at a time.\n",
              "const MAX_PAYLOAD_SIZE = 100 * 1024;\n",
              "\n",
              "function _uploadFiles(inputId, outputId) {\n",
              "  const steps = uploadFilesStep(inputId, outputId);\n",
              "  const outputElement = document.getElementById(outputId);\n",
              "  // Cache steps on the outputElement to make it available for the next call\n",
              "  // to uploadFilesContinue from Python.\n",
              "  outputElement.steps = steps;\n",
              "\n",
              "  return _uploadFilesContinue(outputId);\n",
              "}\n",
              "\n",
              "// This is roughly an async generator (not supported in the browser yet),\n",
              "// where there are multiple asynchronous steps and the Python side is going\n",
              "// to poll for completion of each step.\n",
              "// This uses a Promise to block the python side on completion of each step,\n",
              "// then passes the result of the previous step as the input to the next step.\n",
              "function _uploadFilesContinue(outputId) {\n",
              "  const outputElement = document.getElementById(outputId);\n",
              "  const steps = outputElement.steps;\n",
              "\n",
              "  const next = steps.next(outputElement.lastPromiseValue);\n",
              "  return Promise.resolve(next.value.promise).then((value) => {\n",
              "    // Cache the last promise value to make it available to the next\n",
              "    // step of the generator.\n",
              "    outputElement.lastPromiseValue = value;\n",
              "    return next.value.response;\n",
              "  });\n",
              "}\n",
              "\n",
              "/**\n",
              " * Generator function which is called between each async step of the upload\n",
              " * process.\n",
              " * @param {string} inputId Element ID of the input file picker element.\n",
              " * @param {string} outputId Element ID of the output display.\n",
              " * @return {!Iterable<!Object>} Iterable of next steps.\n",
              " */\n",
              "function* uploadFilesStep(inputId, outputId) {\n",
              "  const inputElement = document.getElementById(inputId);\n",
              "  inputElement.disabled = false;\n",
              "\n",
              "  const outputElement = document.getElementById(outputId);\n",
              "  outputElement.innerHTML = '';\n",
              "\n",
              "  const pickedPromise = new Promise((resolve) => {\n",
              "    inputElement.addEventListener('change', (e) => {\n",
              "      resolve(e.target.files);\n",
              "    });\n",
              "  });\n",
              "\n",
              "  const cancel = document.createElement('button');\n",
              "  inputElement.parentElement.appendChild(cancel);\n",
              "  cancel.textContent = 'Cancel upload';\n",
              "  const cancelPromise = new Promise((resolve) => {\n",
              "    cancel.onclick = () => {\n",
              "      resolve(null);\n",
              "    };\n",
              "  });\n",
              "\n",
              "  // Wait for the user to pick the files.\n",
              "  const files = yield {\n",
              "    promise: Promise.race([pickedPromise, cancelPromise]),\n",
              "    response: {\n",
              "      action: 'starting',\n",
              "    }\n",
              "  };\n",
              "\n",
              "  cancel.remove();\n",
              "\n",
              "  // Disable the input element since further picks are not allowed.\n",
              "  inputElement.disabled = true;\n",
              "\n",
              "  if (!files) {\n",
              "    return {\n",
              "      response: {\n",
              "        action: 'complete',\n",
              "      }\n",
              "    };\n",
              "  }\n",
              "\n",
              "  for (const file of files) {\n",
              "    const li = document.createElement('li');\n",
              "    li.append(span(file.name, {fontWeight: 'bold'}));\n",
              "    li.append(span(\n",
              "        `(${file.type || 'n/a'}) - ${file.size} bytes, ` +\n",
              "        `last modified: ${\n",
              "            file.lastModifiedDate ? file.lastModifiedDate.toLocaleDateString() :\n",
              "                                    'n/a'} - `));\n",
              "    const percent = span('0% done');\n",
              "    li.appendChild(percent);\n",
              "\n",
              "    outputElement.appendChild(li);\n",
              "\n",
              "    const fileDataPromise = new Promise((resolve) => {\n",
              "      const reader = new FileReader();\n",
              "      reader.onload = (e) => {\n",
              "        resolve(e.target.result);\n",
              "      };\n",
              "      reader.readAsArrayBuffer(file);\n",
              "    });\n",
              "    // Wait for the data to be ready.\n",
              "    let fileData = yield {\n",
              "      promise: fileDataPromise,\n",
              "      response: {\n",
              "        action: 'continue',\n",
              "      }\n",
              "    };\n",
              "\n",
              "    // Use a chunked sending to avoid message size limits. See b/62115660.\n",
              "    let position = 0;\n",
              "    do {\n",
              "      const length = Math.min(fileData.byteLength - position, MAX_PAYLOAD_SIZE);\n",
              "      const chunk = new Uint8Array(fileData, position, length);\n",
              "      position += length;\n",
              "\n",
              "      const base64 = btoa(String.fromCharCode.apply(null, chunk));\n",
              "      yield {\n",
              "        response: {\n",
              "          action: 'append',\n",
              "          file: file.name,\n",
              "          data: base64,\n",
              "        },\n",
              "      };\n",
              "\n",
              "      let percentDone = fileData.byteLength === 0 ?\n",
              "          100 :\n",
              "          Math.round((position / fileData.byteLength) * 100);\n",
              "      percent.textContent = `${percentDone}% done`;\n",
              "\n",
              "    } while (position < fileData.byteLength);\n",
              "  }\n",
              "\n",
              "  // All done.\n",
              "  yield {\n",
              "    response: {\n",
              "      action: 'complete',\n",
              "    }\n",
              "  };\n",
              "}\n",
              "\n",
              "scope.google = scope.google || {};\n",
              "scope.google.colab = scope.google.colab || {};\n",
              "scope.google.colab._files = {\n",
              "  _uploadFiles,\n",
              "  _uploadFilesContinue,\n",
              "};\n",
              "})(self);\n",
              "</script> "
            ]
          },
          "metadata": {}
        },
        {
          "output_type": "stream",
          "name": "stdout",
          "text": [
            "Saving Auto.csv to Auto (1).csv\n"
          ]
        }
      ]
    },
    {
      "cell_type": "code",
      "source": [
        "import pandas as pd\n",
        "import seaborn as sb"
      ],
      "metadata": {
        "id": "WYsEtS6HhPv-"
      },
      "execution_count": 61,
      "outputs": []
    },
    {
      "cell_type": "code",
      "execution_count": 32,
      "metadata": {
        "colab": {
          "base_uri": "https://localhost:8080/"
        },
        "id": "5OCXBLb3X4gn",
        "outputId": "45a32f8b-1c66-46da-8087-fda737c3c257"
      },
      "outputs": [
        {
          "output_type": "stream",
          "name": "stdout",
          "text": [
            "    mpg  cylinders  displacement  horsepower  weight  acceleration  year  \\\n",
            "0  18.0          8         307.0         130    3504          12.0  70.0   \n",
            "1  15.0          8         350.0         165    3693          11.5  70.0   \n",
            "2  18.0          8         318.0         150    3436          11.0  70.0   \n",
            "3  16.0          8         304.0         150    3433          12.0  70.0   \n",
            "4  17.0          8         302.0         140    3449           NaN  70.0   \n",
            "\n",
            "   origin                       name  \n",
            "0       1  chevrolet chevelle malibu  \n",
            "1       1          buick skylark 320  \n",
            "2       1         plymouth satellite  \n",
            "3       1              amc rebel sst  \n",
            "4       1                ford torino   \n",
            "\n",
            "\n",
            "Dimensions: (392, 9)\n"
          ]
        }
      ],
      "source": [
        "df = pd.read_csv('Auto.csv')\n",
        "print(df.head(), '\\n')\n",
        "print('\\nDimensions:', df.shape)"
      ]
    },
    {
      "cell_type": "markdown",
      "source": [
        "### Data exploration with code\n",
        "\n",
        "Mpg: range = 37.6, average = 23.445918\\\n",
        "Weight: range = 3527, average = 2977.584184\\\n",
        "Year: range = 12, average = 76.010256"
      ],
      "metadata": {
        "id": "nW5gDziZYQqi"
      }
    },
    {
      "cell_type": "code",
      "source": [
        "df[['mpg', 'weight', 'year']].describe()"
      ],
      "metadata": {
        "colab": {
          "base_uri": "https://localhost:8080/",
          "height": 300
        },
        "id": "vOfYvym7YRgH",
        "outputId": "69f06284-cdcf-4da4-9141-4e0b92f76698"
      },
      "execution_count": 33,
      "outputs": [
        {
          "output_type": "execute_result",
          "data": {
            "text/plain": [
              "              mpg       weight        year\n",
              "count  392.000000   392.000000  390.000000\n",
              "mean    23.445918  2977.584184   76.010256\n",
              "std      7.805007   849.402560    3.668093\n",
              "min      9.000000  1613.000000   70.000000\n",
              "25%     17.000000  2225.250000   73.000000\n",
              "50%     22.750000  2803.500000   76.000000\n",
              "75%     29.000000  3614.750000   79.000000\n",
              "max     46.600000  5140.000000   82.000000"
            ],
            "text/html": [
              "\n",
              "  <div id=\"df-8f732353-09aa-4d9a-9bc3-f573a8b627c1\">\n",
              "    <div class=\"colab-df-container\">\n",
              "      <div>\n",
              "<style scoped>\n",
              "    .dataframe tbody tr th:only-of-type {\n",
              "        vertical-align: middle;\n",
              "    }\n",
              "\n",
              "    .dataframe tbody tr th {\n",
              "        vertical-align: top;\n",
              "    }\n",
              "\n",
              "    .dataframe thead th {\n",
              "        text-align: right;\n",
              "    }\n",
              "</style>\n",
              "<table border=\"1\" class=\"dataframe\">\n",
              "  <thead>\n",
              "    <tr style=\"text-align: right;\">\n",
              "      <th></th>\n",
              "      <th>mpg</th>\n",
              "      <th>weight</th>\n",
              "      <th>year</th>\n",
              "    </tr>\n",
              "  </thead>\n",
              "  <tbody>\n",
              "    <tr>\n",
              "      <th>count</th>\n",
              "      <td>392.000000</td>\n",
              "      <td>392.000000</td>\n",
              "      <td>390.000000</td>\n",
              "    </tr>\n",
              "    <tr>\n",
              "      <th>mean</th>\n",
              "      <td>23.445918</td>\n",
              "      <td>2977.584184</td>\n",
              "      <td>76.010256</td>\n",
              "    </tr>\n",
              "    <tr>\n",
              "      <th>std</th>\n",
              "      <td>7.805007</td>\n",
              "      <td>849.402560</td>\n",
              "      <td>3.668093</td>\n",
              "    </tr>\n",
              "    <tr>\n",
              "      <th>min</th>\n",
              "      <td>9.000000</td>\n",
              "      <td>1613.000000</td>\n",
              "      <td>70.000000</td>\n",
              "    </tr>\n",
              "    <tr>\n",
              "      <th>25%</th>\n",
              "      <td>17.000000</td>\n",
              "      <td>2225.250000</td>\n",
              "      <td>73.000000</td>\n",
              "    </tr>\n",
              "    <tr>\n",
              "      <th>50%</th>\n",
              "      <td>22.750000</td>\n",
              "      <td>2803.500000</td>\n",
              "      <td>76.000000</td>\n",
              "    </tr>\n",
              "    <tr>\n",
              "      <th>75%</th>\n",
              "      <td>29.000000</td>\n",
              "      <td>3614.750000</td>\n",
              "      <td>79.000000</td>\n",
              "    </tr>\n",
              "    <tr>\n",
              "      <th>max</th>\n",
              "      <td>46.600000</td>\n",
              "      <td>5140.000000</td>\n",
              "      <td>82.000000</td>\n",
              "    </tr>\n",
              "  </tbody>\n",
              "</table>\n",
              "</div>\n",
              "      <button class=\"colab-df-convert\" onclick=\"convertToInteractive('df-8f732353-09aa-4d9a-9bc3-f573a8b627c1')\"\n",
              "              title=\"Convert this dataframe to an interactive table.\"\n",
              "              style=\"display:none;\">\n",
              "        \n",
              "  <svg xmlns=\"http://www.w3.org/2000/svg\" height=\"24px\"viewBox=\"0 0 24 24\"\n",
              "       width=\"24px\">\n",
              "    <path d=\"M0 0h24v24H0V0z\" fill=\"none\"/>\n",
              "    <path d=\"M18.56 5.44l.94 2.06.94-2.06 2.06-.94-2.06-.94-.94-2.06-.94 2.06-2.06.94zm-11 1L8.5 8.5l.94-2.06 2.06-.94-2.06-.94L8.5 2.5l-.94 2.06-2.06.94zm10 10l.94 2.06.94-2.06 2.06-.94-2.06-.94-.94-2.06-.94 2.06-2.06.94z\"/><path d=\"M17.41 7.96l-1.37-1.37c-.4-.4-.92-.59-1.43-.59-.52 0-1.04.2-1.43.59L10.3 9.45l-7.72 7.72c-.78.78-.78 2.05 0 2.83L4 21.41c.39.39.9.59 1.41.59.51 0 1.02-.2 1.41-.59l7.78-7.78 2.81-2.81c.8-.78.8-2.07 0-2.86zM5.41 20L4 18.59l7.72-7.72 1.47 1.35L5.41 20z\"/>\n",
              "  </svg>\n",
              "      </button>\n",
              "      \n",
              "  <style>\n",
              "    .colab-df-container {\n",
              "      display:flex;\n",
              "      flex-wrap:wrap;\n",
              "      gap: 12px;\n",
              "    }\n",
              "\n",
              "    .colab-df-convert {\n",
              "      background-color: #E8F0FE;\n",
              "      border: none;\n",
              "      border-radius: 50%;\n",
              "      cursor: pointer;\n",
              "      display: none;\n",
              "      fill: #1967D2;\n",
              "      height: 32px;\n",
              "      padding: 0 0 0 0;\n",
              "      width: 32px;\n",
              "    }\n",
              "\n",
              "    .colab-df-convert:hover {\n",
              "      background-color: #E2EBFA;\n",
              "      box-shadow: 0px 1px 2px rgba(60, 64, 67, 0.3), 0px 1px 3px 1px rgba(60, 64, 67, 0.15);\n",
              "      fill: #174EA6;\n",
              "    }\n",
              "\n",
              "    [theme=dark] .colab-df-convert {\n",
              "      background-color: #3B4455;\n",
              "      fill: #D2E3FC;\n",
              "    }\n",
              "\n",
              "    [theme=dark] .colab-df-convert:hover {\n",
              "      background-color: #434B5C;\n",
              "      box-shadow: 0px 1px 3px 1px rgba(0, 0, 0, 0.15);\n",
              "      filter: drop-shadow(0px 1px 2px rgba(0, 0, 0, 0.3));\n",
              "      fill: #FFFFFF;\n",
              "    }\n",
              "  </style>\n",
              "\n",
              "      <script>\n",
              "        const buttonEl =\n",
              "          document.querySelector('#df-8f732353-09aa-4d9a-9bc3-f573a8b627c1 button.colab-df-convert');\n",
              "        buttonEl.style.display =\n",
              "          google.colab.kernel.accessAllowed ? 'block' : 'none';\n",
              "\n",
              "        async function convertToInteractive(key) {\n",
              "          const element = document.querySelector('#df-8f732353-09aa-4d9a-9bc3-f573a8b627c1');\n",
              "          const dataTable =\n",
              "            await google.colab.kernel.invokeFunction('convertToInteractive',\n",
              "                                                     [key], {});\n",
              "          if (!dataTable) return;\n",
              "\n",
              "          const docLinkHtml = 'Like what you see? Visit the ' +\n",
              "            '<a target=\"_blank\" href=https://colab.research.google.com/notebooks/data_table.ipynb>data table notebook</a>'\n",
              "            + ' to learn more about interactive tables.';\n",
              "          element.innerHTML = '';\n",
              "          dataTable['output_type'] = 'display_data';\n",
              "          await google.colab.output.renderOutput(dataTable, element);\n",
              "          const docLink = document.createElement('div');\n",
              "          docLink.innerHTML = docLinkHtml;\n",
              "          element.appendChild(docLink);\n",
              "        }\n",
              "      </script>\n",
              "    </div>\n",
              "  </div>\n",
              "  "
            ]
          },
          "metadata": {},
          "execution_count": 33
        }
      ]
    },
    {
      "cell_type": "markdown",
      "source": [
        "### Explore data types"
      ],
      "metadata": {
        "id": "4uY9w1ttYfxn"
      }
    },
    {
      "cell_type": "code",
      "source": [
        "print(df.dtypes, '\\n')\n",
        "df.cylinders = df.cylinders.astype('category').cat.codes\n",
        "df.origin = df.origin.astype('category')\n",
        "print(df.dtypes, 'n')"
      ],
      "metadata": {
        "colab": {
          "base_uri": "https://localhost:8080/"
        },
        "id": "PoxuDfBeYipr",
        "outputId": "1fa5c820-edc3-4f97-efdd-c166dc35ddc9"
      },
      "execution_count": 34,
      "outputs": [
        {
          "output_type": "stream",
          "name": "stdout",
          "text": [
            "mpg             float64\n",
            "cylinders         int64\n",
            "displacement    float64\n",
            "horsepower        int64\n",
            "weight            int64\n",
            "acceleration    float64\n",
            "year            float64\n",
            "origin            int64\n",
            "name             object\n",
            "dtype: object \n",
            "\n",
            "mpg              float64\n",
            "cylinders           int8\n",
            "displacement     float64\n",
            "horsepower         int64\n",
            "weight             int64\n",
            "acceleration     float64\n",
            "year             float64\n",
            "origin          category\n",
            "name              object\n",
            "dtype: object n\n"
          ]
        }
      ]
    },
    {
      "cell_type": "markdown",
      "source": [
        "### Deal with NAs"
      ],
      "metadata": {
        "id": "zg6jEn-kYiyU"
      }
    },
    {
      "cell_type": "code",
      "source": [
        "df = df.dropna()\n",
        "df.shape"
      ],
      "metadata": {
        "colab": {
          "base_uri": "https://localhost:8080/"
        },
        "id": "NQJpFAUMYkqD",
        "outputId": "2f9daefc-1c96-46b1-cc50-05eaa02c5451"
      },
      "execution_count": 35,
      "outputs": [
        {
          "output_type": "execute_result",
          "data": {
            "text/plain": [
              "(389, 9)"
            ]
          },
          "metadata": {},
          "execution_count": 35
        }
      ]
    },
    {
      "cell_type": "markdown",
      "source": [
        "### Modify columns"
      ],
      "metadata": {
        "id": "VW5ocGzgYkuk"
      }
    },
    {
      "cell_type": "code",
      "source": [
        "mpg_mean = df['mpg'].mean()\n",
        "df['mpg_high'] = df['mpg'].apply(lambda x: x > mpg_mean)\n",
        "df = df.drop(columns=['mpg', 'name'])\n",
        "df.head()"
      ],
      "metadata": {
        "colab": {
          "base_uri": "https://localhost:8080/",
          "height": 206
        },
        "id": "GJnHxxR3YmqD",
        "outputId": "771b77e4-1d74-4340-c272-69be467eb417"
      },
      "execution_count": 36,
      "outputs": [
        {
          "output_type": "execute_result",
          "data": {
            "text/plain": [
              "   cylinders  displacement  horsepower  weight  acceleration  year origin  \\\n",
              "0          4         307.0         130    3504          12.0  70.0      1   \n",
              "1          4         350.0         165    3693          11.5  70.0      1   \n",
              "2          4         318.0         150    3436          11.0  70.0      1   \n",
              "3          4         304.0         150    3433          12.0  70.0      1   \n",
              "6          4         454.0         220    4354           9.0  70.0      1   \n",
              "\n",
              "   mpg_high  \n",
              "0     False  \n",
              "1     False  \n",
              "2     False  \n",
              "3     False  \n",
              "6     False  "
            ],
            "text/html": [
              "\n",
              "  <div id=\"df-8b218a80-f120-4581-80d7-9fa20044c9e1\">\n",
              "    <div class=\"colab-df-container\">\n",
              "      <div>\n",
              "<style scoped>\n",
              "    .dataframe tbody tr th:only-of-type {\n",
              "        vertical-align: middle;\n",
              "    }\n",
              "\n",
              "    .dataframe tbody tr th {\n",
              "        vertical-align: top;\n",
              "    }\n",
              "\n",
              "    .dataframe thead th {\n",
              "        text-align: right;\n",
              "    }\n",
              "</style>\n",
              "<table border=\"1\" class=\"dataframe\">\n",
              "  <thead>\n",
              "    <tr style=\"text-align: right;\">\n",
              "      <th></th>\n",
              "      <th>cylinders</th>\n",
              "      <th>displacement</th>\n",
              "      <th>horsepower</th>\n",
              "      <th>weight</th>\n",
              "      <th>acceleration</th>\n",
              "      <th>year</th>\n",
              "      <th>origin</th>\n",
              "      <th>mpg_high</th>\n",
              "    </tr>\n",
              "  </thead>\n",
              "  <tbody>\n",
              "    <tr>\n",
              "      <th>0</th>\n",
              "      <td>4</td>\n",
              "      <td>307.0</td>\n",
              "      <td>130</td>\n",
              "      <td>3504</td>\n",
              "      <td>12.0</td>\n",
              "      <td>70.0</td>\n",
              "      <td>1</td>\n",
              "      <td>False</td>\n",
              "    </tr>\n",
              "    <tr>\n",
              "      <th>1</th>\n",
              "      <td>4</td>\n",
              "      <td>350.0</td>\n",
              "      <td>165</td>\n",
              "      <td>3693</td>\n",
              "      <td>11.5</td>\n",
              "      <td>70.0</td>\n",
              "      <td>1</td>\n",
              "      <td>False</td>\n",
              "    </tr>\n",
              "    <tr>\n",
              "      <th>2</th>\n",
              "      <td>4</td>\n",
              "      <td>318.0</td>\n",
              "      <td>150</td>\n",
              "      <td>3436</td>\n",
              "      <td>11.0</td>\n",
              "      <td>70.0</td>\n",
              "      <td>1</td>\n",
              "      <td>False</td>\n",
              "    </tr>\n",
              "    <tr>\n",
              "      <th>3</th>\n",
              "      <td>4</td>\n",
              "      <td>304.0</td>\n",
              "      <td>150</td>\n",
              "      <td>3433</td>\n",
              "      <td>12.0</td>\n",
              "      <td>70.0</td>\n",
              "      <td>1</td>\n",
              "      <td>False</td>\n",
              "    </tr>\n",
              "    <tr>\n",
              "      <th>6</th>\n",
              "      <td>4</td>\n",
              "      <td>454.0</td>\n",
              "      <td>220</td>\n",
              "      <td>4354</td>\n",
              "      <td>9.0</td>\n",
              "      <td>70.0</td>\n",
              "      <td>1</td>\n",
              "      <td>False</td>\n",
              "    </tr>\n",
              "  </tbody>\n",
              "</table>\n",
              "</div>\n",
              "      <button class=\"colab-df-convert\" onclick=\"convertToInteractive('df-8b218a80-f120-4581-80d7-9fa20044c9e1')\"\n",
              "              title=\"Convert this dataframe to an interactive table.\"\n",
              "              style=\"display:none;\">\n",
              "        \n",
              "  <svg xmlns=\"http://www.w3.org/2000/svg\" height=\"24px\"viewBox=\"0 0 24 24\"\n",
              "       width=\"24px\">\n",
              "    <path d=\"M0 0h24v24H0V0z\" fill=\"none\"/>\n",
              "    <path d=\"M18.56 5.44l.94 2.06.94-2.06 2.06-.94-2.06-.94-.94-2.06-.94 2.06-2.06.94zm-11 1L8.5 8.5l.94-2.06 2.06-.94-2.06-.94L8.5 2.5l-.94 2.06-2.06.94zm10 10l.94 2.06.94-2.06 2.06-.94-2.06-.94-.94-2.06-.94 2.06-2.06.94z\"/><path d=\"M17.41 7.96l-1.37-1.37c-.4-.4-.92-.59-1.43-.59-.52 0-1.04.2-1.43.59L10.3 9.45l-7.72 7.72c-.78.78-.78 2.05 0 2.83L4 21.41c.39.39.9.59 1.41.59.51 0 1.02-.2 1.41-.59l7.78-7.78 2.81-2.81c.8-.78.8-2.07 0-2.86zM5.41 20L4 18.59l7.72-7.72 1.47 1.35L5.41 20z\"/>\n",
              "  </svg>\n",
              "      </button>\n",
              "      \n",
              "  <style>\n",
              "    .colab-df-container {\n",
              "      display:flex;\n",
              "      flex-wrap:wrap;\n",
              "      gap: 12px;\n",
              "    }\n",
              "\n",
              "    .colab-df-convert {\n",
              "      background-color: #E8F0FE;\n",
              "      border: none;\n",
              "      border-radius: 50%;\n",
              "      cursor: pointer;\n",
              "      display: none;\n",
              "      fill: #1967D2;\n",
              "      height: 32px;\n",
              "      padding: 0 0 0 0;\n",
              "      width: 32px;\n",
              "    }\n",
              "\n",
              "    .colab-df-convert:hover {\n",
              "      background-color: #E2EBFA;\n",
              "      box-shadow: 0px 1px 2px rgba(60, 64, 67, 0.3), 0px 1px 3px 1px rgba(60, 64, 67, 0.15);\n",
              "      fill: #174EA6;\n",
              "    }\n",
              "\n",
              "    [theme=dark] .colab-df-convert {\n",
              "      background-color: #3B4455;\n",
              "      fill: #D2E3FC;\n",
              "    }\n",
              "\n",
              "    [theme=dark] .colab-df-convert:hover {\n",
              "      background-color: #434B5C;\n",
              "      box-shadow: 0px 1px 3px 1px rgba(0, 0, 0, 0.15);\n",
              "      filter: drop-shadow(0px 1px 2px rgba(0, 0, 0, 0.3));\n",
              "      fill: #FFFFFF;\n",
              "    }\n",
              "  </style>\n",
              "\n",
              "      <script>\n",
              "        const buttonEl =\n",
              "          document.querySelector('#df-8b218a80-f120-4581-80d7-9fa20044c9e1 button.colab-df-convert');\n",
              "        buttonEl.style.display =\n",
              "          google.colab.kernel.accessAllowed ? 'block' : 'none';\n",
              "\n",
              "        async function convertToInteractive(key) {\n",
              "          const element = document.querySelector('#df-8b218a80-f120-4581-80d7-9fa20044c9e1');\n",
              "          const dataTable =\n",
              "            await google.colab.kernel.invokeFunction('convertToInteractive',\n",
              "                                                     [key], {});\n",
              "          if (!dataTable) return;\n",
              "\n",
              "          const docLinkHtml = 'Like what you see? Visit the ' +\n",
              "            '<a target=\"_blank\" href=https://colab.research.google.com/notebooks/data_table.ipynb>data table notebook</a>'\n",
              "            + ' to learn more about interactive tables.';\n",
              "          element.innerHTML = '';\n",
              "          dataTable['output_type'] = 'display_data';\n",
              "          await google.colab.output.renderOutput(dataTable, element);\n",
              "          const docLink = document.createElement('div');\n",
              "          docLink.innerHTML = docLinkHtml;\n",
              "          element.appendChild(docLink);\n",
              "        }\n",
              "      </script>\n",
              "    </div>\n",
              "  </div>\n",
              "  "
            ]
          },
          "metadata": {},
          "execution_count": 36
        }
      ]
    },
    {
      "cell_type": "markdown",
      "source": [
        "### Data exploration with graphs"
      ],
      "metadata": {
        "id": "q8vVjwdkYmu9"
      }
    },
    {
      "cell_type": "code",
      "source": [
        "sb.catplot(x='mpg_high', kind='count', data=df)"
      ],
      "metadata": {
        "colab": {
          "base_uri": "https://localhost:8080/",
          "height": 523
        },
        "id": "cMr8fqMZYosG",
        "outputId": "9d5d35bc-ac7e-4909-9776-e19159952bb1"
      },
      "execution_count": 48,
      "outputs": [
        {
          "output_type": "execute_result",
          "data": {
            "text/plain": [
              "<seaborn.axisgrid.FacetGrid at 0x7f225bdf0ca0>"
            ]
          },
          "metadata": {},
          "execution_count": 48
        },
        {
          "output_type": "display_data",
          "data": {
            "text/plain": [
              "<Figure size 500x500 with 1 Axes>"
            ],
            "image/png": "[encoded data removed]"
          },
          "metadata": {}
        }
      ]
    },
    {
      "cell_type": "markdown",
      "source": [
        "The mpg data is about evenly split between its mean."
      ],
      "metadata": {
        "id": "VJIekG3AkVay"
      }
    },
    {
      "cell_type": "code",
      "source": [
        "sb.relplot(x='horsepower', y='weight', data=df, style=df.mpg_high)"
      ],
      "metadata": {
        "colab": {
          "base_uri": "https://localhost:8080/",
          "height": 524
        },
        "id": "h89UxnHBitv1",
        "outputId": "4a33ca25-0654-4e97-bd06-2c9c9be342e5"
      },
      "execution_count": 49,
      "outputs": [
        {
          "output_type": "execute_result",
          "data": {
            "text/plain": [
              "<seaborn.axisgrid.FacetGrid at 0x7f225bf68790>"
            ]
          },
          "metadata": {},
          "execution_count": 49
        },
        {
          "output_type": "display_data",
          "data": {
            "text/plain": [
              "<Figure size 584.875x500 with 1 Axes>"
            ],
            "image/png": "[encoded data removed]"
          },
          "metadata": {}
        }
      ]
    },
    {
      "cell_type": "markdown",
      "source": [
        "Weight and horsepower seem to have a linear relationship and the two mpg_high values seem to be clustered together."
      ],
      "metadata": {
        "id": "0zCc8LN6kYVM"
      }
    },
    {
      "cell_type": "code",
      "source": [
        "sb.boxplot(x=df['mpg_high'], y=df['weight'])"
      ],
      "metadata": {
        "colab": {
          "base_uri": "https://localhost:8080/",
          "height": 467
        },
        "id": "-_XH0NHrjAD7",
        "outputId": "05ac8ed6-2f35-4592-dfc7-1e8eacb0a47a"
      },
      "execution_count": 50,
      "outputs": [
        {
          "output_type": "execute_result",
          "data": {
            "text/plain": [
              "<Axes: xlabel='mpg_high', ylabel='weight'>"
            ]
          },
          "metadata": {},
          "execution_count": 50
        },
        {
          "output_type": "display_data",
          "data": {
            "text/plain": [
              "<Figure size 640x480 with 1 Axes>"
            ],
            "image/png": "[encoded data removed]"
          },
          "metadata": {}
        }
      ]
    },
    {
      "cell_type": "markdown",
      "source": [
        "Cars with high mpg seem to be lighter."
      ],
      "metadata": {
        "id": "7iIKfeUskbCa"
      }
    },
    {
      "cell_type": "markdown",
      "source": [
        "### Train/test split"
      ],
      "metadata": {
        "id": "cjoKTSCbYov0"
      }
    },
    {
      "cell_type": "code",
      "source": [
        "from sklearn.model_selection import train_test_split\n",
        "\n",
        "X, y = df.loc[:, df.columns != 'mpg_high'], df.mpg_high\n",
        "X_train, X_test, y_train, y_test = train_test_split(X, y, test_size=0.2, random_state=1234)\n",
        "print('Train size:', X_train.shape)\n",
        "print('Test size:', X_test.shape)"
      ],
      "metadata": {
        "colab": {
          "base_uri": "https://localhost:8080/"
        },
        "id": "aX8XyHtpYqy2",
        "outputId": "b5c44af0-8cce-4ace-f0a7-69c10cba112d"
      },
      "execution_count": 62,
      "outputs": [
        {
          "output_type": "stream",
          "name": "stdout",
          "text": [
            "Train size: (311, 7)\n",
            "Test size: (78, 7)\n"
          ]
        }
      ]
    },
    {
      "cell_type": "markdown",
      "source": [
        "### Logistic Regression"
      ],
      "metadata": {
        "id": "yOZuXUr2Yq2y"
      }
    },
    {
      "cell_type": "code",
      "source": [
        "from sklearn.linear_model import LogisticRegression\n",
        "clf = LogisticRegression()\n",
        "clf.fit(X_train, y_train)\n",
        "clf.score(X_train, y_train)"
      ],
      "metadata": {
        "id": "Mk8Hlz02YsVN"
      },
      "execution_count": null,
      "outputs": []
    },
    {
      "cell_type": "code",
      "source": [
        "from sklearn.metrics import accuracy_score, precision_score, recall_score, f1_score\n",
        "\n",
        "pred = clf.predict(X_test)\n",
        "print('Accuracy score: ', accuracy_score(y_test, pred))\n",
        "print('Precision score: ', precision_score(y_test, pred))\n",
        "print('Recall score: ', recall_score(y_test, pred))\n",
        "print('f1 score: ', f1_score(y_test, pred))"
      ],
      "metadata": {
        "colab": {
          "base_uri": "https://localhost:8080/"
        },
        "id": "v2TBpn4poMsX",
        "outputId": "57e64edd-a86b-4be8-b5c7-796df57c8c74"
      },
      "execution_count": 59,
      "outputs": [
        {
          "output_type": "stream",
          "name": "stdout",
          "text": [
            "Accuracy score:  0.8589743589743589\n",
            "Precision score:  0.7297297297297297\n",
            "Recall score:  0.9642857142857143\n",
            "f1 score:  0.8307692307692307\n"
          ]
        }
      ]
    },
    {
      "cell_type": "code",
      "source": [
        "from sklearn.metrics import confusion_matrix\n",
        "\n",
        "confusion_matrix(y_test, pred)"
      ],
      "metadata": {
        "colab": {
          "base_uri": "https://localhost:8080/"
        },
        "id": "WX21YwE1pYve",
        "outputId": "8d70b100-207d-4f4f-be3a-44b910ae038b"
      },
      "execution_count": 60,
      "outputs": [
        {
          "output_type": "execute_result",
          "data": {
            "text/plain": [
              "array([[40, 10],\n",
              "       [ 1, 27]])"
            ]
          },
          "metadata": {},
          "execution_count": 60
        }
      ]
    },
    {
      "cell_type": "markdown",
      "source": [
        "### Decision Tree"
      ],
      "metadata": {
        "id": "lb5EUFQXYsZa"
      }
    },
    {
      "cell_type": "code",
      "source": [
        "from sklearn.tree import DecisionTreeClassifier\n",
        "\n",
        "clf2 = DecisionTreeClassifier()\n",
        "clf2.fit(X_train, y_train)"
      ],
      "metadata": {
        "colab": {
          "base_uri": "https://localhost:8080/",
          "height": 52
        },
        "id": "xxzpgsFdYutx",
        "outputId": "b5b9e9c1-1db8-4c4c-ed6a-4eab6dd39bb6"
      },
      "execution_count": 64,
      "outputs": [
        {
          "output_type": "execute_result",
          "data": {
            "text/plain": [
              "DecisionTreeClassifier()"
            ],
            "text/html": [
              "<style>#sk-container-id-1 {color: black;background-color: white;}#sk-container-id-1 pre{padding: 0;}#sk-container-id-1 div.sk-toggleable {background-color: white;}#sk-container-id-1 label.sk-toggleable__label {cursor: pointer;display: block;width: 100%;margin-bottom: 0;padding: 0.3em;box-sizing: border-box;text-align: center;}#sk-container-id-1 label.sk-toggleable__label-arrow:before {content: \"▸\";float: left;margin-right: 0.25em;color: #696969;}#sk-container-id-1 label.sk-toggleable__label-arrow:hover:before {color: black;}#sk-container-id-1 div.sk-estimator:hover label.sk-toggleable__label-arrow:before {color: black;}#sk-container-id-1 div.sk-toggleable__content {max-height: 0;max-width: 0;overflow: hidden;text-align: left;background-color: #f0f8ff;}#sk-container-id-1 div.sk-toggleable__content pre {margin: 0.2em;color: black;border-radius: 0.25em;background-color: #f0f8ff;}#sk-container-id-1 input.sk-toggleable__control:checked~div.sk-toggleable__content {max-height: 200px;max-width: 100%;overflow: auto;}#sk-container-id-1 input.sk-toggleable__control:checked~label.sk-toggleable__label-arrow:before {content: \"▾\";}#sk-container-id-1 div.sk-estimator input.sk-toggleable__control:checked~label.sk-toggleable__label {background-color: #d4ebff;}#sk-container-id-1 div.sk-label input.sk-toggleable__control:checked~label.sk-toggleable__label {background-color: #d4ebff;}#sk-container-id-1 input.sk-hidden--visually {border: 0;clip: rect(1px 1px 1px 1px);clip: rect(1px, 1px, 1px, 1px);height: 1px;margin: -1px;overflow: hidden;padding: 0;position: absolute;width: 1px;}#sk-container-id-1 div.sk-estimator {font-family: monospace;background-color: #f0f8ff;border: 1px dotted black;border-radius: 0.25em;box-sizing: border-box;margin-bottom: 0.5em;}#sk-container-id-1 div.sk-estimator:hover {background-color: #d4ebff;}#sk-container-id-1 div.sk-parallel-item::after {content: \"\";width: 100%;border-bottom: 1px solid gray;flex-grow: 1;}#sk-container-id-1 div.sk-label:hover label.sk-toggleable__label {background-color: #d4ebff;}#sk-container-id-1 div.sk-serial::before {content: \"\";position: absolute;border-left: 1px solid gray;box-sizing: border-box;top: 0;bottom: 0;left: 50%;z-index: 0;}#sk-container-id-1 div.sk-serial {display: flex;flex-direction: column;align-items: center;background-color: white;padding-right: 0.2em;padding-left: 0.2em;position: relative;}#sk-container-id-1 div.sk-item {position: relative;z-index: 1;}#sk-container-id-1 div.sk-parallel {display: flex;align-items: stretch;justify-content: center;background-color: white;position: relative;}#sk-container-id-1 div.sk-item::before, #sk-container-id-1 div.sk-parallel-item::before {content: \"\";position: absolute;border-left: 1px solid gray;box-sizing: border-box;top: 0;bottom: 0;left: 50%;z-index: -1;}#sk-container-id-1 div.sk-parallel-item {display: flex;flex-direction: column;z-index: 1;position: relative;background-color: white;}#sk-container-id-1 div.sk-parallel-item:first-child::after {align-self: flex-end;width: 50%;}#sk-container-id-1 div.sk-parallel-item:last-child::after {align-self: flex-start;width: 50%;}#sk-container-id-1 div.sk-parallel-item:only-child::after {width: 0;}#sk-container-id-1 div.sk-dashed-wrapped {border: 1px dashed gray;margin: 0 0.4em 0.5em 0.4em;box-sizing: border-box;padding-bottom: 0.4em;background-color: white;}#sk-container-id-1 div.sk-label label {font-family: monospace;font-weight: bold;display: inline-block;line-height: 1.2em;}#sk-container-id-1 div.sk-label-container {text-align: center;}#sk-container-id-1 div.sk-container {/* jupyter's `normalize.less` sets `[hidden] { display: none; }` but bootstrap.min.css set `[hidden] { display: none !important; }` so we also need the `!important` here to be able to override the default hidden behavior on the sphinx rendered scikit-learn.org. See: https://github.com/scikit-learn/scikit-learn/issues/21755 */display: inline-block !important;position: relative;}#sk-container-id-1 div.sk-text-repr-fallback {display: none;}</style><div id=\"sk-container-id-1\" class=\"sk-top-container\"><div class=\"sk-text-repr-fallback\"><pre>DecisionTreeClassifier()</pre><b>In a Jupyter environment, please rerun this cell to show the HTML representation or trust the notebook. <br />On GitHub, the HTML representation is unable to render, please try loading this page with nbviewer.org.</b></div><div class=\"sk-container\" hidden><div class=\"sk-item\"><div class=\"sk-estimator sk-toggleable\"><input class=\"sk-toggleable__control sk-hidden--visually\" id=\"sk-estimator-id-1\" type=\"checkbox\" checked><label for=\"sk-estimator-id-1\" class=\"sk-toggleable__label sk-toggleable__label-arrow\">DecisionTreeClassifier</label><div class=\"sk-toggleable__content\"><pre>DecisionTreeClassifier()</pre></div></div></div></div></div>"
            ]
          },
          "metadata": {},
          "execution_count": 64
        }
      ]
    },
    {
      "cell_type": "code",
      "source": [
        "pred2 = clf2.predict(X_test)\n",
        "print('Accuracy score: ', accuracy_score(y_test, pred2))\n",
        "print('Precision score: ', precision_score(y_test, pred2))\n",
        "print('Recall score: ', recall_score(y_test, pred2))\n",
        "print('f1 score: ', f1_score(y_test, pred2))"
      ],
      "metadata": {
        "colab": {
          "base_uri": "https://localhost:8080/"
        },
        "id": "5TEFry4fqATm",
        "outputId": "72aa4892-30b0-4cec-ed94-5e34d84b8390"
      },
      "execution_count": 65,
      "outputs": [
        {
          "output_type": "stream",
          "name": "stdout",
          "text": [
            "Accuracy score:  0.9102564102564102\n",
            "Precision score:  0.8620689655172413\n",
            "Recall score:  0.8928571428571429\n",
            "f1 score:  0.8771929824561403\n"
          ]
        }
      ]
    },
    {
      "cell_type": "code",
      "source": [
        "confusion_matrix(y_test, pred2)"
      ],
      "metadata": {
        "colab": {
          "base_uri": "https://localhost:8080/"
        },
        "id": "SF8ST2FhqSBe",
        "outputId": "06e2cd96-8e52-4584-81e2-a2536f7b4483"
      },
      "execution_count": 66,
      "outputs": [
        {
          "output_type": "execute_result",
          "data": {
            "text/plain": [
              "array([[46,  4],\n",
              "       [ 3, 25]])"
            ]
          },
          "metadata": {},
          "execution_count": 66
        }
      ]
    },
    {
      "cell_type": "code",
      "source": [
        "from sklearn import tree\n",
        "\n",
        "tree.plot_tree(clf2)"
      ],
      "metadata": {
        "colab": {
          "base_uri": "https://localhost:8080/",
          "height": 1000
        },
        "id": "F2c3es7TqcYd",
        "outputId": "7a2bdd2b-f260-4ca7-809a-29fc5a33839c"
      },
      "execution_count": 68,
      "outputs": [
        {
          "output_type": "execute_result",
          "data": {
            "text/plain": [
              "[Text(0.6433823529411765, 0.9444444444444444, 'x[0] <= 2.5\\ngini = 0.5\\nsamples = 311\\nvalue = [153, 158]'),\n",
              " Text(0.4338235294117647, 0.8333333333333334, 'x[2] <= 101.0\\ngini = 0.239\\nsamples = 173\\nvalue = [24, 149]'),\n",
              " Text(0.27941176470588236, 0.7222222222222222, 'x[5] <= 75.5\\ngini = 0.179\\nsamples = 161\\nvalue = [16, 145]'),\n",
              " Text(0.14705882352941177, 0.6111111111111112, 'x[1] <= 119.5\\ngini = 0.362\\nsamples = 59\\nvalue = [14, 45]'),\n",
              " Text(0.058823529411764705, 0.5, 'x[0] <= 0.5\\ngini = 0.159\\nsamples = 46\\nvalue = [4, 42]'),\n",
              " Text(0.029411764705882353, 0.3888888888888889, 'gini = 0.0\\nsamples = 2\\nvalue = [2, 0]'),\n",
              " Text(0.08823529411764706, 0.3888888888888889, 'x[3] <= 2683.0\\ngini = 0.087\\nsamples = 44\\nvalue = [2, 42]'),\n",
              " Text(0.058823529411764705, 0.2777777777777778, 'x[3] <= 2377.0\\ngini = 0.045\\nsamples = 43\\nvalue = [1, 42]'),\n",
              " Text(0.029411764705882353, 0.16666666666666666, 'gini = 0.0\\nsamples = 38\\nvalue = [0, 38]'),\n",
              " Text(0.08823529411764706, 0.16666666666666666, 'x[3] <= 2385.0\\ngini = 0.32\\nsamples = 5\\nvalue = [1, 4]'),\n",
              " Text(0.058823529411764705, 0.05555555555555555, 'gini = 0.0\\nsamples = 1\\nvalue = [1, 0]'),\n",
              " Text(0.11764705882352941, 0.05555555555555555, 'gini = 0.0\\nsamples = 4\\nvalue = [0, 4]'),\n",
              " Text(0.11764705882352941, 0.2777777777777778, 'gini = 0.0\\nsamples = 1\\nvalue = [1, 0]'),\n",
              " Text(0.23529411764705882, 0.5, 'x[4] <= 17.75\\ngini = 0.355\\nsamples = 13\\nvalue = [10, 3]'),\n",
              " Text(0.20588235294117646, 0.3888888888888889, 'x[2] <= 81.5\\ngini = 0.469\\nsamples = 8\\nvalue = [5, 3]'),\n",
              " Text(0.17647058823529413, 0.2777777777777778, 'gini = 0.0\\nsamples = 2\\nvalue = [0, 2]'),\n",
              " Text(0.23529411764705882, 0.2777777777777778, 'x[5] <= 71.5\\ngini = 0.278\\nsamples = 6\\nvalue = [5, 1]'),\n",
              " Text(0.20588235294117646, 0.16666666666666666, 'x[4] <= 14.75\\ngini = 0.5\\nsamples = 2\\nvalue = [1, 1]'),\n",
              " Text(0.17647058823529413, 0.05555555555555555, 'gini = 0.0\\nsamples = 1\\nvalue = [1, 0]'),\n",
              " Text(0.23529411764705882, 0.05555555555555555, 'gini = 0.0\\nsamples = 1\\nvalue = [0, 1]'),\n",
              " Text(0.2647058823529412, 0.16666666666666666, 'gini = 0.0\\nsamples = 4\\nvalue = [4, 0]'),\n",
              " Text(0.2647058823529412, 0.3888888888888889, 'gini = 0.0\\nsamples = 5\\nvalue = [5, 0]'),\n",
              " Text(0.4117647058823529, 0.6111111111111112, 'x[3] <= 3250.0\\ngini = 0.038\\nsamples = 102\\nvalue = [2, 100]'),\n",
              " Text(0.35294117647058826, 0.5, 'x[3] <= 2880.0\\ngini = 0.02\\nsamples = 100\\nvalue = [1, 99]'),\n",
              " Text(0.3235294117647059, 0.3888888888888889, 'gini = 0.0\\nsamples = 94\\nvalue = [0, 94]'),\n",
              " Text(0.38235294117647056, 0.3888888888888889, 'x[3] <= 2920.0\\ngini = 0.278\\nsamples = 6\\nvalue = [1, 5]'),\n",
              " Text(0.35294117647058826, 0.2777777777777778, 'gini = 0.0\\nsamples = 1\\nvalue = [1, 0]'),\n",
              " Text(0.4117647058823529, 0.2777777777777778, 'gini = 0.0\\nsamples = 5\\nvalue = [0, 5]'),\n",
              " Text(0.47058823529411764, 0.5, 'x[1] <= 151.5\\ngini = 0.5\\nsamples = 2\\nvalue = [1, 1]'),\n",
              " Text(0.4411764705882353, 0.3888888888888889, 'gini = 0.0\\nsamples = 1\\nvalue = [1, 0]'),\n",
              " Text(0.5, 0.3888888888888889, 'gini = 0.0\\nsamples = 1\\nvalue = [0, 1]'),\n",
              " Text(0.5882352941176471, 0.7222222222222222, 'x[4] <= 14.45\\ngini = 0.444\\nsamples = 12\\nvalue = [8, 4]'),\n",
              " Text(0.5588235294117647, 0.6111111111111112, 'x[5] <= 76.0\\ngini = 0.444\\nsamples = 6\\nvalue = [2, 4]'),\n",
              " Text(0.5294117647058824, 0.5, 'gini = 0.0\\nsamples = 3\\nvalue = [0, 3]'),\n",
              " Text(0.5882352941176471, 0.5, 'x[5] <= 78.5\\ngini = 0.444\\nsamples = 3\\nvalue = [2, 1]'),\n",
              " Text(0.5588235294117647, 0.3888888888888889, 'gini = 0.0\\nsamples = 2\\nvalue = [2, 0]'),\n",
              " Text(0.6176470588235294, 0.3888888888888889, 'gini = 0.0\\nsamples = 1\\nvalue = [0, 1]'),\n",
              " Text(0.6176470588235294, 0.6111111111111112, 'gini = 0.0\\nsamples = 6\\nvalue = [6, 0]'),\n",
              " Text(0.8529411764705882, 0.8333333333333334, 'x[5] <= 79.5\\ngini = 0.122\\nsamples = 138\\nvalue = [129, 9]'),\n",
              " Text(0.7941176470588235, 0.7222222222222222, 'x[4] <= 21.6\\ngini = 0.045\\nsamples = 129\\nvalue = [126, 3]'),\n",
              " Text(0.7647058823529411, 0.6111111111111112, 'x[3] <= 2737.0\\ngini = 0.031\\nsamples = 128\\nvalue = [126, 2]'),\n",
              " Text(0.7058823529411765, 0.5, 'x[3] <= 2674.0\\ngini = 0.444\\nsamples = 3\\nvalue = [2, 1]'),\n",
              " Text(0.6764705882352942, 0.3888888888888889, 'gini = 0.0\\nsamples = 2\\nvalue = [2, 0]'),\n",
              " Text(0.7352941176470589, 0.3888888888888889, 'gini = 0.0\\nsamples = 1\\nvalue = [0, 1]'),\n",
              " Text(0.8235294117647058, 0.5, 'x[2] <= 83.0\\ngini = 0.016\\nsamples = 125\\nvalue = [124, 1]'),\n",
              " Text(0.7941176470588235, 0.3888888888888889, 'x[3] <= 3085.0\\ngini = 0.375\\nsamples = 4\\nvalue = [3, 1]'),\n",
              " Text(0.7647058823529411, 0.2777777777777778, 'gini = 0.0\\nsamples = 1\\nvalue = [0, 1]'),\n",
              " Text(0.8235294117647058, 0.2777777777777778, 'gini = 0.0\\nsamples = 3\\nvalue = [3, 0]'),\n",
              " Text(0.8529411764705882, 0.3888888888888889, 'gini = 0.0\\nsamples = 121\\nvalue = [121, 0]'),\n",
              " Text(0.8235294117647058, 0.6111111111111112, 'gini = 0.0\\nsamples = 1\\nvalue = [0, 1]'),\n",
              " Text(0.9117647058823529, 0.7222222222222222, 'x[1] <= 196.5\\ngini = 0.444\\nsamples = 9\\nvalue = [3, 6]'),\n",
              " Text(0.8823529411764706, 0.6111111111111112, 'gini = 0.0\\nsamples = 4\\nvalue = [0, 4]'),\n",
              " Text(0.9411764705882353, 0.6111111111111112, 'x[1] <= 247.0\\ngini = 0.48\\nsamples = 5\\nvalue = [3, 2]'),\n",
              " Text(0.9117647058823529, 0.5, 'gini = 0.0\\nsamples = 3\\nvalue = [3, 0]'),\n",
              " Text(0.9705882352941176, 0.5, 'gini = 0.0\\nsamples = 2\\nvalue = [0, 2]')]"
            ]
          },
          "metadata": {},
          "execution_count": 68
        },
        {
          "output_type": "display_data",
          "data": {
            "text/plain": [
              "<Figure size 640x480 with 1 Axes>"
            ],
            "image/png": "[encoded data removed]"
          },
          "metadata": {}
        }
      ]
    },
    {
      "cell_type": "markdown",
      "source": [
        "### Neural Network"
      ],
      "metadata": {
        "id": "BEGw1WFRYuxf"
      }
    },
    {
      "cell_type": "code",
      "source": [
        "from sklearn import preprocessing\n",
        "from sklearn.neural_network import MLPClassifier\n",
        "from sklearn.metrics import classification_report\n",
        "\n",
        "scaler = preprocessing.StandardScaler().fit(X_train)\n",
        "\n",
        "X_train_scaled = scaler.transform(X_train)\n",
        "X_test_scaled = scaler.transform(X_test)"
      ],
      "metadata": {
        "id": "w3gsloC_YwVH"
      },
      "execution_count": 69,
      "outputs": []
    },
    {
      "cell_type": "code",
      "source": [
        "clf3 = MLPClassifier(solver='lbfgs', hidden_layer_sizes=(7, 7), max_iter=1000, random_state=1234)\n",
        "clf3.fit(X_train_scaled, y_train)\n",
        "pred3 = clf3.predict(X_test_scaled)\n",
        "\n",
        "print('Accuracy = ', accuracy_score(y_test, pred3), '\\n')\n",
        "print(confusion_matrix(y_test, pred3), '\\n')\n",
        "print(classification_report(y_test, pred3))"
      ],
      "metadata": {
        "colab": {
          "base_uri": "https://localhost:8080/"
        },
        "id": "nHP5c91xrVmo",
        "outputId": "594d3714-99c7-4271-f74b-54476e09ffc5"
      },
      "execution_count": 93,
      "outputs": [
        {
          "output_type": "stream",
          "name": "stdout",
          "text": [
            "Accuracy =  0.9102564102564102 \n",
            "\n",
            "[[45  5]\n",
            " [ 2 26]] \n",
            "\n",
            "              precision    recall  f1-score   support\n",
            "\n",
            "       False       0.96      0.90      0.93        50\n",
            "        True       0.84      0.93      0.88        28\n",
            "\n",
            "    accuracy                           0.91        78\n",
            "   macro avg       0.90      0.91      0.90        78\n",
            "weighted avg       0.91      0.91      0.91        78\n",
            "\n"
          ]
        }
      ]
    },
    {
      "cell_type": "code",
      "source": [
        "clf4 = MLPClassifier(solver='lbfgs', hidden_layer_sizes=(2, 1), max_iter=1000, random_state=1234)\n",
        "clf4.fit(X_train_scaled, y_train)\n",
        "pred4 = clf4.predict(X_test_scaled)\n",
        "\n",
        "print('Accuracy = ', accuracy_score(y_test, pred4), '\\n')\n",
        "print(confusion_matrix(y_test, pred4), '\\n')\n",
        "print(classification_report(y_test, pred4))"
      ],
      "metadata": {
        "colab": {
          "base_uri": "https://localhost:8080/"
        },
        "id": "ZCUFZkQ2toFl",
        "outputId": "f5d059ca-1450-484e-a5f3-8d1973e123ff"
      },
      "execution_count": 131,
      "outputs": [
        {
          "output_type": "stream",
          "name": "stdout",
          "text": [
            "Accuracy =  0.9230769230769231 \n",
            "\n",
            "[[45  5]\n",
            " [ 1 27]] \n",
            "\n",
            "              precision    recall  f1-score   support\n",
            "\n",
            "       False       0.98      0.90      0.94        50\n",
            "        True       0.84      0.96      0.90        28\n",
            "\n",
            "    accuracy                           0.92        78\n",
            "   macro avg       0.91      0.93      0.92        78\n",
            "weighted avg       0.93      0.92      0.92        78\n",
            "\n"
          ]
        }
      ]
    },
    {
      "cell_type": "markdown",
      "source": [
        "I think the second model did better because it was simpler than the first - it suits the guideline of having less nodes for smaller datasets."
      ],
      "metadata": {
        "id": "rd3Jbk1mumLv"
      }
    },
    {
      "cell_type": "markdown",
      "source": [
        "### Analysis\n",
        "\n",
        "The neural network with two hidden layers and three total nodes did the best based on accuracy.\n",
        "\n",
        "**Logistic regression**\\\n",
        "Accuracy: 0.859\\\n",
        "Recall: 0.964\\\n",
        "Precision: 0.730\n",
        "\n",
        "**Decision tree**\\\n",
        "Accuracy: 0.910\\\n",
        "Recall: 0.893\\\n",
        "Precision: 0.862\n",
        "\n",
        "**Neural network 1 (7, 7)**\\\n",
        "Accuracy: 0.910\\\n",
        "Recall: 0.923\\\n",
        "Precision: 0.84\n",
        "\n",
        "**Neural network 2 (2, 1)**\\\n",
        "Accuracy: 0.923\\\n",
        "Recall: 0.96\\\n",
        "Precision: 0.84\\\n",
        "\n",
        "Neural network 2 probably did the best because it captured some nuanced relationship between the predictors that logistic regression and decision trees couldn't catch. Neural network 1 performed very similar to decision trees but was probably overkill with the amount of nodes used to replicate decision trees' simple algorithm.\n",
        "\n",
        "<br>\n",
        "\n",
        "#### R vs sklearn\n",
        "I prefer using sklearn to R as I was more familiar with Python and was glad to finally start using it instead of R. R has some good features like built-in plots and operations on data, as well as highly optimized algorithms. With Python, I'm more familiar with its syntax and can understand it easily, and I have access to other non-ML libraries."
      ],
      "metadata": {
        "id": "CZfHLOofYwY7"
      }
    }
  ]
}